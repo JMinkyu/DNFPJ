{
 "cells": [
  {
   "cell_type": "code",
   "execution_count": 30,
   "metadata": {},
   "outputs": [],
   "source": [
    "import json\n",
    "import urllib.request\n",
    "import urllib.parse\n",
    "import pandas as pd\n",
    "import numpy as np\n",
    "import matplotlib.pyplot as plt\n",
    "import requests"
   ]
  },
  {
   "cell_type": "code",
   "execution_count": 18,
   "metadata": {},
   "outputs": [],
   "source": [
    "urdata = pd.read_csv('page1~3 urdata.csv')\n",
    "chid = pd.DataFrame(columns=['characterId'])\n",
    "\n",
    "# 열이 생성되서 해당 열 삭제\n",
    "urdata = urdata.drop(urdata.columns[0], axis=1)\n",
    "\n",
    "for i in range(0 , len(urdata)) :\n",
    "    svname = urdata.iloc[i, 0]\n",
    "    urname = urdata.iloc[i, 1]\n",
    "    urname_url = urllib.parse.quote(urname)\n",
    "\n",
    "    #아이디 검색 API(URL 변환 필요)\n",
    "    requestData = requests.get(f'https://api.neople.co.kr/df/servers/{svname}/characters?characterName={urname_url}&apikey=M23RMaIB2JlKPyRWYRBKDb6UtE3NDTrS')\n",
    "    if requestData.status_code == 200 :\n",
    "        jsonData = requestData.json()\n",
    "    else :\n",
    "        print(requestData.status_code, 'Request Bad')\n",
    "        print(requestData.json())\n",
    "        break\n",
    "    \n",
    "    jsonData = requestData.json()\n",
    "    api_result = pd.DataFrame(jsonData['rows'])\n",
    "    characterId_filter = pd.DataFrame({'characterId' : api_result.characterId})\n",
    "    chid = pd.concat([chid, characterId_filter])\n"
   ]
  },
  {
   "cell_type": "code",
   "execution_count": 31,
   "metadata": {},
   "outputs": [
    {
     "data": {
      "text/html": [
       "<div>\n",
       "<style scoped>\n",
       "    .dataframe tbody tr th:only-of-type {\n",
       "        vertical-align: middle;\n",
       "    }\n",
       "\n",
       "    .dataframe tbody tr th {\n",
       "        vertical-align: top;\n",
       "    }\n",
       "\n",
       "    .dataframe thead th {\n",
       "        text-align: right;\n",
       "    }\n",
       "</style>\n",
       "<table border=\"1\" class=\"dataframe\">\n",
       "  <thead>\n",
       "    <tr style=\"text-align: right;\">\n",
       "      <th></th>\n",
       "    </tr>\n",
       "    <tr>\n",
       "      <th>characterId</th>\n",
       "    </tr>\n",
       "  </thead>\n",
       "  <tbody>\n",
       "    <tr>\n",
       "      <th>bf6b24c203111c6ede8c2faf4be2b9d6</th>\n",
       "    </tr>\n",
       "    <tr>\n",
       "      <th>3607ff20a78bf0cfceb230174ce44cf4</th>\n",
       "    </tr>\n",
       "    <tr>\n",
       "      <th>9de4332b4ecccde83f68e473626340e9</th>\n",
       "    </tr>\n",
       "    <tr>\n",
       "      <th>7979bcc2a3455f213036808a876da546</th>\n",
       "    </tr>\n",
       "    <tr>\n",
       "      <th>603f935c21c8fa5a09d0addbddd1f745</th>\n",
       "    </tr>\n",
       "    <tr>\n",
       "      <th>c9eafeaac93d0b0454207a8953344e49</th>\n",
       "    </tr>\n",
       "    <tr>\n",
       "      <th>b8cfd13e40b429b73359ad496a0de671</th>\n",
       "    </tr>\n",
       "    <tr>\n",
       "      <th>31008143569c724b9bbc0c34a2c70e1c</th>\n",
       "    </tr>\n",
       "    <tr>\n",
       "      <th>77dae44a87261743386852bb3979c03a</th>\n",
       "    </tr>\n",
       "    <tr>\n",
       "      <th>f312ddd477c7759f5041250bd8e0d35a</th>\n",
       "    </tr>\n",
       "    <tr>\n",
       "      <th>ec892da54f597450978ac5f6c4555744</th>\n",
       "    </tr>\n",
       "    <tr>\n",
       "      <th>8c2b3d28a289131a2cf0ba3065a1dc39</th>\n",
       "    </tr>\n",
       "    <tr>\n",
       "      <th>d9191d34de0d133fbf16938e53065fc4</th>\n",
       "    </tr>\n",
       "    <tr>\n",
       "      <th>7e5504c0ceb574b29250aad5486ac7e8</th>\n",
       "    </tr>\n",
       "    <tr>\n",
       "      <th>cc1621d07bb24c7d25f9a18aff8e02f6</th>\n",
       "    </tr>\n",
       "    <tr>\n",
       "      <th>b736d335e6c02bb0aea1a339c7c3fd6a</th>\n",
       "    </tr>\n",
       "    <tr>\n",
       "      <th>a5bdb287cb8b58d9fe885e8f66069835</th>\n",
       "    </tr>\n",
       "    <tr>\n",
       "      <th>91051fdfe2371f6a60afee9bec8c26bd</th>\n",
       "    </tr>\n",
       "    <tr>\n",
       "      <th>0df1668baeaa914aa0d9f90d31605bf7</th>\n",
       "    </tr>\n",
       "    <tr>\n",
       "      <th>fb0fe14684b00eb10a9259c74e96ddbc</th>\n",
       "    </tr>\n",
       "    <tr>\n",
       "      <th>d45b408eb190913ee1aad6432e0fa60a</th>\n",
       "    </tr>\n",
       "    <tr>\n",
       "      <th>09f47aa892a3875febfc062fc1a012d4</th>\n",
       "    </tr>\n",
       "    <tr>\n",
       "      <th>9aae034cfa7c3d0fc9875331a4bc2b29</th>\n",
       "    </tr>\n",
       "    <tr>\n",
       "      <th>0daa8c49cae531262f966dd637008e30</th>\n",
       "    </tr>\n",
       "  </tbody>\n",
       "</table>\n",
       "</div>"
      ],
      "text/plain": [
       "Empty DataFrame\n",
       "Columns: []\n",
       "Index: [bf6b24c203111c6ede8c2faf4be2b9d6, 3607ff20a78bf0cfceb230174ce44cf4, 9de4332b4ecccde83f68e473626340e9, 7979bcc2a3455f213036808a876da546, 603f935c21c8fa5a09d0addbddd1f745, c9eafeaac93d0b0454207a8953344e49, b8cfd13e40b429b73359ad496a0de671, 31008143569c724b9bbc0c34a2c70e1c, 77dae44a87261743386852bb3979c03a, f312ddd477c7759f5041250bd8e0d35a, ec892da54f597450978ac5f6c4555744, 8c2b3d28a289131a2cf0ba3065a1dc39, d9191d34de0d133fbf16938e53065fc4, 7e5504c0ceb574b29250aad5486ac7e8, cc1621d07bb24c7d25f9a18aff8e02f6, b736d335e6c02bb0aea1a339c7c3fd6a, a5bdb287cb8b58d9fe885e8f66069835, 91051fdfe2371f6a60afee9bec8c26bd, 0df1668baeaa914aa0d9f90d31605bf7, fb0fe14684b00eb10a9259c74e96ddbc, d45b408eb190913ee1aad6432e0fa60a, 09f47aa892a3875febfc062fc1a012d4, 9aae034cfa7c3d0fc9875331a4bc2b29, 0daa8c49cae531262f966dd637008e30]"
      ]
     },
     "execution_count": 31,
     "metadata": {},
     "output_type": "execute_result"
    }
   ],
   "source": [
    "chid1 = chid.set_index('characterId')\n",
    "chid1"
   ]
  },
  {
   "cell_type": "code",
   "execution_count": 32,
   "metadata": {},
   "outputs": [
    {
     "ename": "TypeError",
     "evalue": "'numpy.ndarray' object is not callable",
     "output_type": "error",
     "traceback": [
      "\u001b[1;31m---------------------------------------------------------------------------\u001b[0m",
      "\u001b[1;31mTypeError\u001b[0m                                 Traceback (most recent call last)",
      "\u001b[1;32mUntitled-1.ipynb Cell 4\u001b[0m in \u001b[0;36m<cell line: 1>\u001b[1;34m()\u001b[0m\n\u001b[1;32m----> <a href='vscode-notebook-cell:Untitled-1.ipynb?jupyter-notebook#W1sdW50aXRsZWQ%3D?line=0'>1</a>\u001b[0m chid1\u001b[39m.\u001b[39;49mvalues()\n",
      "\u001b[1;31mTypeError\u001b[0m: 'numpy.ndarray' object is not callable"
     ]
    }
   ],
   "source": [
    "chid1.values()"
   ]
  },
  {
   "cell_type": "code",
   "execution_count": null,
   "metadata": {},
   "outputs": [],
   "source": []
  },
  {
   "cell_type": "code",
   "execution_count": null,
   "metadata": {},
   "outputs": [],
   "source": []
  }
 ],
 "metadata": {
  "kernelspec": {
   "display_name": "base",
   "language": "python",
   "name": "python3"
  },
  "language_info": {
   "codemirror_mode": {
    "name": "ipython",
    "version": 3
   },
   "file_extension": ".py",
   "mimetype": "text/x-python",
   "name": "python",
   "nbconvert_exporter": "python",
   "pygments_lexer": "ipython3",
   "version": "3.9.12"
  },
  "orig_nbformat": 4
 },
 "nbformat": 4,
 "nbformat_minor": 2
}
