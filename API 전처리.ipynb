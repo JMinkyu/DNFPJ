{
 "cells": [
  {
   "cell_type": "code",
   "execution_count": 3,
   "metadata": {},
   "outputs": [],
   "source": [
    "import json\n",
    "import urllib.request\n",
    "import urllib.parse\n",
    "import pandas as pd\n",
    "import matplotlib.pyplot as plt\n",
    "import requests"
   ]
  },
  {
   "cell_type": "code",
   "execution_count": 17,
   "metadata": {},
   "outputs": [
    {
     "data": {
      "text/plain": [
       "'%EC%82%AC%EB%A0%88%EB%84%A4'"
      ]
     },
     "execution_count": 17,
     "metadata": {},
     "output_type": "execute_result"
    }
   ],
   "source": [
    "#한글 URL 변환\n",
    "svname = 'prey'\n",
    "urname = '사레네'\n",
    "urname_url = urllib.parse.quote(urname)\n",
    "urname_url\n"
   ]
  },
  {
   "cell_type": "code",
   "execution_count": 34,
   "metadata": {},
   "outputs": [
    {
     "name": "stdout",
     "output_type": "stream",
     "text": [
      "200 Request OK\n"
     ]
    }
   ],
   "source": [
    "#아이디 검색 API(URL 변환 필요)\n",
    "requestData = requests.get(f'https://api.neople.co.kr/df/servers/{svname}/characters?characterName={urname_url}&apikey=M23RMaIB2JlKPyRWYRBKDb6UtE3NDTrS')\n",
    "\n",
    "if requestData.status_code == 200 :\n",
    "    print(requestData.status_code, 'Request OK')\n",
    "    jsonData = requestData.json()\n",
    "else :\n",
    "    print(requestData.status_code, 'Request Bad')\n",
    "    print(requestData.json())\n",
    "api_result = pd.DataFrame(jsonData['rows'])"
   ]
  },
  {
   "cell_type": "code",
   "execution_count": 30,
   "metadata": {},
   "outputs": [
    {
     "data": {
      "text/html": [
       "<div>\n",
       "<style scoped>\n",
       "    .dataframe tbody tr th:only-of-type {\n",
       "        vertical-align: middle;\n",
       "    }\n",
       "\n",
       "    .dataframe tbody tr th {\n",
       "        vertical-align: top;\n",
       "    }\n",
       "\n",
       "    .dataframe thead th {\n",
       "        text-align: right;\n",
       "    }\n",
       "</style>\n",
       "<table border=\"1\" class=\"dataframe\">\n",
       "  <thead>\n",
       "    <tr style=\"text-align: right;\">\n",
       "      <th></th>\n",
       "      <th>serverId</th>\n",
       "      <th>characterId</th>\n",
       "      <th>characterName</th>\n",
       "      <th>level</th>\n",
       "      <th>jobId</th>\n",
       "      <th>jobGrowId</th>\n",
       "      <th>jobName</th>\n",
       "      <th>jobGrowName</th>\n",
       "    </tr>\n",
       "  </thead>\n",
       "  <tbody>\n",
       "    <tr>\n",
       "      <th>0</th>\n",
       "      <td>prey</td>\n",
       "      <td>d0b844d79ea6e490f6a26b1f62070a24</td>\n",
       "      <td>사레네</td>\n",
       "      <td>110</td>\n",
       "      <td>3909d0b188e9c95311399f776e331da5</td>\n",
       "      <td>c9b492038ee3ca8d27d7004cf58d59f3</td>\n",
       "      <td>마법사(여)</td>\n",
       "      <td>眞 마도학자</td>\n",
       "    </tr>\n",
       "  </tbody>\n",
       "</table>\n",
       "</div>"
      ],
      "text/plain": [
       "  serverId                       characterId characterName  level  \\\n",
       "0     prey  d0b844d79ea6e490f6a26b1f62070a24           사레네    110   \n",
       "\n",
       "                              jobId                         jobGrowId jobName  \\\n",
       "0  3909d0b188e9c95311399f776e331da5  c9b492038ee3ca8d27d7004cf58d59f3  마법사(여)   \n",
       "\n",
       "  jobGrowName  \n",
       "0      眞 마도학자  "
      ]
     },
     "execution_count": 30,
     "metadata": {},
     "output_type": "execute_result"
    }
   ],
   "source": [
    "df"
   ]
  },
  {
   "cell_type": "code",
   "execution_count": 41,
   "metadata": {},
   "outputs": [],
   "source": [
    "chid = pd.DataFrame(columns=['characterId'])\n",
    "characterId_filter = pd.DataFrame({'characterId' : api_result.characterId})\n",
    "\n",
    "chid = pd.concat([chid, characterId_filter])"
   ]
  },
  {
   "cell_type": "code",
   "execution_count": 42,
   "metadata": {},
   "outputs": [
    {
     "data": {
      "text/html": [
       "<div>\n",
       "<style scoped>\n",
       "    .dataframe tbody tr th:only-of-type {\n",
       "        vertical-align: middle;\n",
       "    }\n",
       "\n",
       "    .dataframe tbody tr th {\n",
       "        vertical-align: top;\n",
       "    }\n",
       "\n",
       "    .dataframe thead th {\n",
       "        text-align: right;\n",
       "    }\n",
       "</style>\n",
       "<table border=\"1\" class=\"dataframe\">\n",
       "  <thead>\n",
       "    <tr style=\"text-align: right;\">\n",
       "      <th></th>\n",
       "      <th>characterId</th>\n",
       "    </tr>\n",
       "  </thead>\n",
       "  <tbody>\n",
       "    <tr>\n",
       "      <th>0</th>\n",
       "      <td>d0b844d79ea6e490f6a26b1f62070a24</td>\n",
       "    </tr>\n",
       "  </tbody>\n",
       "</table>\n",
       "</div>"
      ],
      "text/plain": [
       "                        characterId\n",
       "0  d0b844d79ea6e490f6a26b1f62070a24"
      ]
     },
     "execution_count": 42,
     "metadata": {},
     "output_type": "execute_result"
    }
   ],
   "source": [
    "chid"
   ]
  },
  {
   "cell_type": "code",
   "execution_count": null,
   "metadata": {},
   "outputs": [],
   "source": []
  }
 ],
 "metadata": {
  "kernelspec": {
   "display_name": "base",
   "language": "python",
   "name": "python3"
  },
  "language_info": {
   "codemirror_mode": {
    "name": "ipython",
    "version": 3
   },
   "file_extension": ".py",
   "mimetype": "text/x-python",
   "name": "python",
   "nbconvert_exporter": "python",
   "pygments_lexer": "ipython3",
   "version": "3.9.12"
  },
  "orig_nbformat": 4
 },
 "nbformat": 4,
 "nbformat_minor": 2
}
