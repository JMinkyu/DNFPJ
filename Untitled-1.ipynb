{
 "cells": [
  {
   "cell_type": "markdown",
   "metadata": {},
   "source": [
    "import requests\n",
    "from bs4 import BeautifulSoup\n",
    "url = 'https://dundam.xyz/damage_ranking?page=30000&type=9&job=%E7%9C%9E%20%EC%9B%A8%ED%8E%80%EB%A7%88%EC%8A%A4%ED%84%B0&baseJob=%EA%B7%80%EA%B2%80%EC%82%AC(%EB%82%A8)&weaponType=%EC%A0%84%EC%B2%B4&weaponDetail=%EC%A0%84%EC%B2%B4&banList='\n",
    "\n",
    "response = requests.get(url)\n",
    "response = response.content\n",
    "soup = BeautifulSoup(response, 'html.parser')"
   ]
  },
  {
   "cell_type": "markdown",
   "metadata": {},
   "source": [
    "damage"
   ]
  },
  {
   "cell_type": "code",
   "execution_count": 32,
   "metadata": {},
   "outputs": [
    {
     "name": "stdout",
     "output_type": "stream",
     "text": [
      "[<span class=\"urname\">zax</span>, <span class=\"urname\">이별선물</span>, <span class=\"urname\">Zeeta</span>, <span class=\"urname\">옆옆짤던</span>, <span class=\"urname\">퐁퐁이로봇</span>, <span class=\"urname\">분분한얼음꽃</span>, <span class=\"urname\">세로로</span>, <span class=\"urname\">최후의대대</span>]\n"
     ]
    }
   ],
   "source": [
    "from selenium import webdriver\n",
    "from bs4 import BeautifulSoup\n",
    "\n",
    "# 크롬 드라이버 경로 설정\n",
    "chromedriver_path = 'chromedriver'\n",
    "\n",
    "# 크롬 드라이버 옵션 설정\n",
    "options = webdriver.ChromeOptions()\n",
    "options.add_argument('headless') # 브라우저가 실행되지 않도록 headless 모드 설정\n",
    "\n",
    "# 크롬 드라이버 실행 및 페이지 로드\n",
    "driver = webdriver.Chrome(chromedriver_path, options=options)\n",
    "url = 'https://dundam.xyz/damage_ranking?page=30000&type=9&job=%E7%9C%9E%20%EC%9B%A8%ED%8E%80%EB%A7%88%EC%8A%A4%ED%84%B0&baseJob=%EA%B7%80%EA%B2%80%EC%82%AC(%EB%82%A8)&weaponType=%EC%A0%84%EC%B2%B4&weaponDetail=%EC%A0%84%EC%B2%B4&banList='\n",
    "driver.get(url)\n",
    "\n",
    "# 페이지 소스코드 가져오기\n",
    "html = driver.page_source\n",
    "\n",
    "# BeautifulSoup을 사용하여 데이터 추출\n",
    "soup = BeautifulSoup(html, 'html.parser')\n",
    "data = soup.find_all('span', {'class': 'urname'})\n",
    "print(data)\n",
    "\n",
    "# 크롬 드라이버 종료\n",
    "driver.quit()"
   ]
  },
  {
   "cell_type": "code",
   "execution_count": 31,
   "metadata": {},
   "outputs": [
    {
     "name": "stdout",
     "output_type": "stream",
     "text": [
      "슬무!\n",
      "사이타마,\n",
      "죽빵여크루\n",
      "칼로베기\n",
      "bloodbv\n",
      "LovelyToday\n",
      "TopDarkroad\n",
      "검귀쿳\n"
     ]
    }
   ],
   "source": [
    "soup.select('span.urname')\n",
    "for name in data:\n",
    "    print(name.text)"
   ]
  },
  {
   "cell_type": "code",
   "execution_count": 26,
   "metadata": {},
   "outputs": [
    {
     "name": "stdout",
     "output_type": "stream",
     "text": [
      "[<span class=\"urname\">치키드파우</span>]\n"
     ]
    }
   ],
   "source": [
    "print(data)"
   ]
  },
  {
   "cell_type": "code",
   "execution_count": null,
   "metadata": {},
   "outputs": [],
   "source": [
    "#ranking > div.rkcont.container > div.rklist.drank > div.rk-ranker > div:nth-child(2) > div:nth-child(1) > div.rker-point > div > div.rkpo > span"
   ]
  }
 ],
 "metadata": {
  "kernelspec": {
   "display_name": "base",
   "language": "python",
   "name": "python3"
  },
  "language_info": {
   "codemirror_mode": {
    "name": "ipython",
    "version": 3
   },
   "file_extension": ".py",
   "mimetype": "text/x-python",
   "name": "python",
   "nbconvert_exporter": "python",
   "pygments_lexer": "ipython3",
   "version": "3.9.12"
  },
  "orig_nbformat": 4,
  "vscode": {
   "interpreter": {
    "hash": "d87dd951d02d30d9befc8040600064e7c81dd4f7d0df6b98c3250e030692a045"
   }
  }
 },
 "nbformat": 4,
 "nbformat_minor": 2
}
