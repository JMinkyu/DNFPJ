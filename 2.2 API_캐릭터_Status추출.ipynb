{
 "cells": [
  {
   "cell_type": "code",
   "execution_count": 1,
   "metadata": {},
   "outputs": [],
   "source": [
    "import json\n",
    "import urllib.request\n",
    "import urllib.parse\n",
    "import pandas as pd\n",
    "import numpy as np\n",
    "import matplotlib.pyplot as plt\n",
    "import requests"
   ]
  },
  {
   "cell_type": "code",
   "execution_count": 6,
   "metadata": {},
   "outputs": [
    {
     "data": {
      "text/html": [
       "<div>\n",
       "<style scoped>\n",
       "    .dataframe tbody tr th:only-of-type {\n",
       "        vertical-align: middle;\n",
       "    }\n",
       "\n",
       "    .dataframe tbody tr th {\n",
       "        vertical-align: top;\n",
       "    }\n",
       "\n",
       "    .dataframe thead th {\n",
       "        text-align: right;\n",
       "    }\n",
       "</style>\n",
       "<table border=\"1\" class=\"dataframe\">\n",
       "  <thead>\n",
       "    <tr style=\"text-align: right;\">\n",
       "      <th></th>\n",
       "      <th>Unnamed: 0</th>\n",
       "      <th>urname</th>\n",
       "      <th>rkpo</th>\n",
       "    </tr>\n",
       "  </thead>\n",
       "  <tbody>\n",
       "    <tr>\n",
       "      <th>0</th>\n",
       "      <td>0</td>\n",
       "      <td>빵문검귀이</td>\n",
       "      <td>49,897</td>\n",
       "    </tr>\n",
       "    <tr>\n",
       "      <th>1</th>\n",
       "      <td>1</td>\n",
       "      <td>쿰</td>\n",
       "      <td>49,627</td>\n",
       "    </tr>\n",
       "    <tr>\n",
       "      <th>2</th>\n",
       "      <td>2</td>\n",
       "      <td>し㏄</td>\n",
       "      <td>49,551</td>\n",
       "    </tr>\n",
       "    <tr>\n",
       "      <th>3</th>\n",
       "      <td>3</td>\n",
       "      <td>새지타</td>\n",
       "      <td>49,549</td>\n",
       "    </tr>\n",
       "    <tr>\n",
       "      <th>4</th>\n",
       "      <td>4</td>\n",
       "      <td>닉넴이읍어</td>\n",
       "      <td>49,543</td>\n",
       "    </tr>\n",
       "    <tr>\n",
       "      <th>...</th>\n",
       "      <td>...</td>\n",
       "      <td>...</td>\n",
       "      <td>...</td>\n",
       "    </tr>\n",
       "    <tr>\n",
       "      <th>75</th>\n",
       "      <td>75</td>\n",
       "      <td>우유</td>\n",
       "      <td>49,285</td>\n",
       "    </tr>\n",
       "    <tr>\n",
       "      <th>76</th>\n",
       "      <td>76</td>\n",
       "      <td>날먹버프쳐</td>\n",
       "      <td>49,283</td>\n",
       "    </tr>\n",
       "    <tr>\n",
       "      <th>77</th>\n",
       "      <td>77</td>\n",
       "      <td>PerfectMind</td>\n",
       "      <td>49,279</td>\n",
       "    </tr>\n",
       "    <tr>\n",
       "      <th>78</th>\n",
       "      <td>78</td>\n",
       "      <td>만크버섴</td>\n",
       "      <td>49,279</td>\n",
       "    </tr>\n",
       "    <tr>\n",
       "      <th>79</th>\n",
       "      <td>79</td>\n",
       "      <td>칼바람블레</td>\n",
       "      <td>49,279</td>\n",
       "    </tr>\n",
       "  </tbody>\n",
       "</table>\n",
       "<p>80 rows × 3 columns</p>\n",
       "</div>"
      ],
      "text/plain": [
       "    Unnamed: 0       urname    rkpo\n",
       "0            0        빵문검귀이  49,897\n",
       "1            1            쿰  49,627\n",
       "2            2           し㏄  49,551\n",
       "3            3          새지타  49,549\n",
       "4            4        닉넴이읍어  49,543\n",
       "..         ...          ...     ...\n",
       "75          75           우유  49,285\n",
       "76          76        날먹버프쳐  49,283\n",
       "77          77  PerfectMind  49,279\n",
       "78          78         만크버섴  49,279\n",
       "79          79        칼바람블레  49,279\n",
       "\n",
       "[80 rows x 3 columns]"
      ]
     },
     "execution_count": 6,
     "metadata": {},
     "output_type": "execute_result"
    }
   ],
   "source": [
    "urdata = pd.read_csv('page1~10 urdata.csv', encoding = 'utf-8')\n",
    "urdata"
   ]
  },
  {
   "cell_type": "code",
   "execution_count": 14,
   "metadata": {},
   "outputs": [],
   "source": [
    "# CSV 파일로드 \n",
    "chid = pd.DataFrame(columns=['urname','characterId'])\n",
    "\n",
    "urname = '빵문검귀이'\n",
    "# 닉네임 URL 변환\n",
    "urname_url = urllib.parse.quote(urname)\n",
    "    \n",
    "# 아이디 검색 API\n",
    "requestData = requests.get(f'https://api.neople.co.kr/df/servers/cain/characters?characterName={urname_url}&apikey=M23RMaIB2JlKPyRWYRBKDb6UtE3NDTrS')\n",
    "if requestData.status_code == 200 :\n",
    "    jsonData = requestData.json()\n",
    "    api_result = pd.DataFrame(jsonData['rows'])\n",
    "    # 닉네임 이상한거 Null값 처리\n",
    "    if api_result.empty :\n",
    "        characterId_filter = pd.DataFrame({'urname' : [urname], 'characterId' : None})\n",
    "    else :\n",
    "        characterId_filter = pd.DataFrame({'urname' : api_result.characterName, 'characterId' : api_result.characterId})\n",
    "else :\n",
    "    characterId_filter = pd.DataFrame({'urname' : [urname], 'characterId' : None})\n",
    "chid = pd.concat([chid, characterId_filter])"
   ]
  },
  {
   "cell_type": "code",
   "execution_count": 17,
   "metadata": {},
   "outputs": [],
   "source": [
    "urdata1 = urdata.set_index('urname')\n",
    "chid1 = chid.set_index('urname')\n",
    "df = pd.merge(urdata1, chid1, on='urname')\n",
    "df = df.drop('Unnamed: 0', axis = 1)"
   ]
  },
  {
   "cell_type": "code",
   "execution_count": 43,
   "metadata": {},
   "outputs": [
    {
     "data": {
      "text/html": [
       "<div>\n",
       "<style scoped>\n",
       "    .dataframe tbody tr th:only-of-type {\n",
       "        vertical-align: middle;\n",
       "    }\n",
       "\n",
       "    .dataframe tbody tr th {\n",
       "        vertical-align: top;\n",
       "    }\n",
       "\n",
       "    .dataframe thead th {\n",
       "        text-align: right;\n",
       "    }\n",
       "</style>\n",
       "<table border=\"1\" class=\"dataframe\">\n",
       "  <thead>\n",
       "    <tr style=\"text-align: right;\">\n",
       "      <th></th>\n",
       "      <th>urname</th>\n",
       "      <th>adventureName</th>\n",
       "    </tr>\n",
       "  </thead>\n",
       "  <tbody>\n",
       "    <tr>\n",
       "      <th>0</th>\n",
       "      <td>빵문검귀이</td>\n",
       "      <td>도유TV</td>\n",
       "    </tr>\n",
       "  </tbody>\n",
       "</table>\n",
       "</div>"
      ],
      "text/plain": [
       "  urname adventureName\n",
       "0  빵문검귀이          도유TV"
      ]
     },
     "execution_count": 43,
     "metadata": {},
     "output_type": "execute_result"
    }
   ],
   "source": [
    "Infomation = pd.DataFrame(columns = ['adventureName'])\n",
    "characterId = df.iloc[0, 1]\n",
    "requestData = requests.get(f'https://api.neople.co.kr/df/servers/cain/characters/{characterId}/status?apikey=M23RMaIB2JlKPyRWYRBKDb6UtE3NDTrS')\n",
    "jsonData = requestData.json()\n",
    "api_result = pd.json_normalize(jsonData)\n",
    "df_adname = pd.DataFrame({'urname' : [urname], 'adventureName' : api_result.adventureName})\n",
    "\n",
    "df_adname"
   ]
  },
  {
   "cell_type": "code",
   "execution_count": null,
   "metadata": {},
   "outputs": [],
   "source": []
  }
 ],
 "metadata": {
  "kernelspec": {
   "display_name": "base",
   "language": "python",
   "name": "python3"
  },
  "language_info": {
   "codemirror_mode": {
    "name": "ipython",
    "version": 3
   },
   "file_extension": ".py",
   "mimetype": "text/x-python",
   "name": "python",
   "nbconvert_exporter": "python",
   "pygments_lexer": "ipython3",
   "version": "3.10.9"
  },
  "orig_nbformat": 4,
  "vscode": {
   "interpreter": {
    "hash": "519406bfc1a78a328c28a49a83525077fe4919fd13fd6e6ef2db60b32b57c4b0"
   }
  }
 },
 "nbformat": 4,
 "nbformat_minor": 2
}
