{
 "cells": [
  {
   "cell_type": "code",
   "execution_count": 2,
   "metadata": {},
   "outputs": [],
   "source": [
    "import numpy as np\n",
    "import pandas as pd\n",
    "import matplotlib.pyplot as plt #시각화 패키지\n",
    "%matplotlib inline\n",
    "import matplotlib.font_manager as fm #한글폰트 패키지\n",
    "# plt box setting\n",
    "from matplotlib.offsetbox import AnchoredText \n",
    "import scipy.stats as stats\n",
    "## encoding으로 오류뜰시 euc-kr로 변경해보고 다시 시도\n",
    "import matplotlib.font_manager as fm #한글폰트 패키지\n",
    "plt.rcParams['font.family'] = 'HCR Batang'#함초롱바탕\n",
    "df = pd.read_csv('2.2_Status_result.csv' , encoding='euc-kr')"
   ]
  },
  {
   "cell_type": "code",
   "execution_count": 3,
   "metadata": {},
   "outputs": [
    {
     "data": {
      "text/html": [
       "<div>\n",
       "<style scoped>\n",
       "    .dataframe tbody tr th:only-of-type {\n",
       "        vertical-align: middle;\n",
       "    }\n",
       "\n",
       "    .dataframe tbody tr th {\n",
       "        vertical-align: top;\n",
       "    }\n",
       "\n",
       "    .dataframe thead th {\n",
       "        text-align: right;\n",
       "    }\n",
       "</style>\n",
       "<table border=\"1\" class=\"dataframe\">\n",
       "  <thead>\n",
       "    <tr style=\"text-align: right;\">\n",
       "      <th></th>\n",
       "      <th>urname</th>\n",
       "      <th>svname</th>\n",
       "      <th>rkpo</th>\n",
       "      <th>characterId</th>\n",
       "      <th>adventurename</th>\n",
       "      <th>adventurelevel</th>\n",
       "      <th>resist</th>\n",
       "      <th>physical_defense</th>\n",
       "      <th>magical_defense</th>\n",
       "    </tr>\n",
       "  </thead>\n",
       "  <tbody>\n",
       "    <tr>\n",
       "      <th>0</th>\n",
       "      <td>ID결신</td>\n",
       "      <td>bakal</td>\n",
       "      <td>41,002</td>\n",
       "      <td>4663274c8e493bb43274ce15768a8cb9</td>\n",
       "      <td>축복의버프</td>\n",
       "      <td>40.0</td>\n",
       "      <td>79.0</td>\n",
       "      <td>37.6</td>\n",
       "      <td>40.0</td>\n",
       "    </tr>\n",
       "    <tr>\n",
       "      <th>1</th>\n",
       "      <td>연단된총</td>\n",
       "      <td>prey</td>\n",
       "      <td>41,001</td>\n",
       "      <td>45737067e047d0ee8dc255c53f150a68</td>\n",
       "      <td>심연부터광명까지</td>\n",
       "      <td>37.0</td>\n",
       "      <td>54.0</td>\n",
       "      <td>38.1</td>\n",
       "      <td>42.0</td>\n",
       "    </tr>\n",
       "    <tr>\n",
       "      <th>2</th>\n",
       "      <td>킴던던</td>\n",
       "      <td>cain</td>\n",
       "      <td>41,001</td>\n",
       "      <td>4d0d7052aa62f8899489c9ad0011267c</td>\n",
       "      <td>던던세상</td>\n",
       "      <td>38.0</td>\n",
       "      <td>89.0</td>\n",
       "      <td>41.9</td>\n",
       "      <td>45.1</td>\n",
       "    </tr>\n",
       "    <tr>\n",
       "      <th>3</th>\n",
       "      <td>구슬모양</td>\n",
       "      <td>cain</td>\n",
       "      <td>41,001</td>\n",
       "      <td>4d9cccd884cbb336d9c9f3fe48a13457</td>\n",
       "      <td>싸인해주는토끼</td>\n",
       "      <td>39.0</td>\n",
       "      <td>74.0</td>\n",
       "      <td>37.0</td>\n",
       "      <td>34.2</td>\n",
       "    </tr>\n",
       "    <tr>\n",
       "      <th>4</th>\n",
       "      <td>딜좀이놈들아</td>\n",
       "      <td>prey</td>\n",
       "      <td>41,001</td>\n",
       "      <td>3f979163c3355c45e6e8e4dd5040a52e</td>\n",
       "      <td>이게ㄹㅇ게임이냐</td>\n",
       "      <td>40.0</td>\n",
       "      <td>99.0</td>\n",
       "      <td>40.3</td>\n",
       "      <td>37.1</td>\n",
       "    </tr>\n",
       "    <tr>\n",
       "      <th>...</th>\n",
       "      <td>...</td>\n",
       "      <td>...</td>\n",
       "      <td>...</td>\n",
       "      <td>...</td>\n",
       "      <td>...</td>\n",
       "      <td>...</td>\n",
       "      <td>...</td>\n",
       "      <td>...</td>\n",
       "      <td>...</td>\n",
       "    </tr>\n",
       "    <tr>\n",
       "      <th>207507</th>\n",
       "      <td>스핏라챠</td>\n",
       "      <td>cain</td>\n",
       "      <td>33,038</td>\n",
       "      <td>e477e2caa27c0e8b7071fcfad04e6f35</td>\n",
       "      <td>멀개</td>\n",
       "      <td>37.0</td>\n",
       "      <td>69.0</td>\n",
       "      <td>28.9</td>\n",
       "      <td>33.8</td>\n",
       "    </tr>\n",
       "    <tr>\n",
       "      <th>207508</th>\n",
       "      <td>Puming</td>\n",
       "      <td>bakal</td>\n",
       "      <td>33,038</td>\n",
       "      <td>f68ac5ee580b409322070dea0af32a87</td>\n",
       "      <td>퓨밍</td>\n",
       "      <td>37.0</td>\n",
       "      <td>159.0</td>\n",
       "      <td>28.7</td>\n",
       "      <td>33.5</td>\n",
       "    </tr>\n",
       "    <tr>\n",
       "      <th>207509</th>\n",
       "      <td>안보이천</td>\n",
       "      <td>anton</td>\n",
       "      <td>33,038</td>\n",
       "      <td>5e2a846591fc3f290779ea19f5b4bdd8</td>\n",
       "      <td>알테리온</td>\n",
       "      <td>39.0</td>\n",
       "      <td>161.0</td>\n",
       "      <td>33.0</td>\n",
       "      <td>30.9</td>\n",
       "    </tr>\n",
       "    <tr>\n",
       "      <th>207510</th>\n",
       "      <td>도짬</td>\n",
       "      <td>prey</td>\n",
       "      <td>33,038</td>\n",
       "      <td>6d73c9f2cf20380da15a0bf316b56b2b</td>\n",
       "      <td>천장군</td>\n",
       "      <td>38.0</td>\n",
       "      <td>69.0</td>\n",
       "      <td>32.9</td>\n",
       "      <td>31.1</td>\n",
       "    </tr>\n",
       "    <tr>\n",
       "      <th>207511</th>\n",
       "      <td>8수라</td>\n",
       "      <td>prey</td>\n",
       "      <td>33,038</td>\n",
       "      <td>6367570a0d9324481d2fd06ff081c597</td>\n",
       "      <td>로유진</td>\n",
       "      <td>40.0</td>\n",
       "      <td>76.0</td>\n",
       "      <td>32.1</td>\n",
       "      <td>29.1</td>\n",
       "    </tr>\n",
       "  </tbody>\n",
       "</table>\n",
       "<p>207512 rows × 9 columns</p>\n",
       "</div>"
      ],
      "text/plain": [
       "        urname svname    rkpo                       characterId adventurename  \\\n",
       "0         ID결신  bakal  41,002  4663274c8e493bb43274ce15768a8cb9         축복의버프   \n",
       "1         연단된총   prey  41,001  45737067e047d0ee8dc255c53f150a68      심연부터광명까지   \n",
       "2          킴던던   cain  41,001  4d0d7052aa62f8899489c9ad0011267c          던던세상   \n",
       "3         구슬모양   cain  41,001  4d9cccd884cbb336d9c9f3fe48a13457       싸인해주는토끼   \n",
       "4       딜좀이놈들아   prey  41,001  3f979163c3355c45e6e8e4dd5040a52e      이게ㄹㅇ게임이냐   \n",
       "...        ...    ...     ...                               ...           ...   \n",
       "207507    스핏라챠   cain  33,038  e477e2caa27c0e8b7071fcfad04e6f35            멀개   \n",
       "207508  Puming  bakal  33,038  f68ac5ee580b409322070dea0af32a87            퓨밍   \n",
       "207509    안보이천  anton  33,038  5e2a846591fc3f290779ea19f5b4bdd8          알테리온   \n",
       "207510      도짬   prey  33,038  6d73c9f2cf20380da15a0bf316b56b2b           천장군   \n",
       "207511     8수라   prey  33,038  6367570a0d9324481d2fd06ff081c597           로유진   \n",
       "\n",
       "        adventurelevel  resist  physical_defense  magical_defense  \n",
       "0                 40.0    79.0              37.6             40.0  \n",
       "1                 37.0    54.0              38.1             42.0  \n",
       "2                 38.0    89.0              41.9             45.1  \n",
       "3                 39.0    74.0              37.0             34.2  \n",
       "4                 40.0    99.0              40.3             37.1  \n",
       "...                ...     ...               ...              ...  \n",
       "207507            37.0    69.0              28.9             33.8  \n",
       "207508            37.0   159.0              28.7             33.5  \n",
       "207509            39.0   161.0              33.0             30.9  \n",
       "207510            38.0    69.0              32.9             31.1  \n",
       "207511            40.0    76.0              32.1             29.1  \n",
       "\n",
       "[207512 rows x 9 columns]"
      ]
     },
     "execution_count": 3,
     "metadata": {},
     "output_type": "execute_result"
    }
   ],
   "source": [
    "df"
   ]
  },
  {
   "cell_type": "code",
   "execution_count": 4,
   "metadata": {},
   "outputs": [
    {
     "data": {
      "text/plain": [
       "Text(0, 0.5, 'User Counts')"
      ]
     },
     "execution_count": 4,
     "metadata": {},
     "output_type": "execute_result"
    },
    {
     "data": {
      "image/png": "[encoded data removed]",
      "text/plain": [
       "<Figure size 1080x504 with 1 Axes>"
      ]
     },
     "metadata": {
      "needs_background": "light"
     },
     "output_type": "display_data"
    }
   ],
   "source": [
    "adventurelevel_counts = df['adventurelevel'].value_counts()\n",
    "counts_median = np.median(df['adventurelevel'])\n",
    "counts_max = np.max(adventurelevel_counts)\n",
    "counts_min = np.min(adventurelevel_counts)\n",
    "\n",
    "fig, ax = plt.subplots(figsize = (15,7))\n",
    "at = AnchoredText(f\"median : {counts_median} \\nmax : {counts_max} \\nmin : {counts_min}\", prop = dict(size=13), loc='upper left')\n",
    "ax.add_artist(at)\n",
    "\n",
    "major_xticks = [i for i in range(0, len(adventurelevel_counts), 2)]\n",
    "ax.bar(adventurelevel_counts.index, adventurelevel_counts, color = 'skyblue')\n",
    "ax.set_title(\"명성 3.3 ~ 4.1 모험단 레벨 분포\", size = 25)\n",
    "ax.set_xlabel(\"Dnf Adventure Level\", size = 15)\n",
    "ax.set_ylabel(\"User Counts\", size = 15)"
   ]
  },
  {
   "cell_type": "code",
   "execution_count": 32,
   "metadata": {},
   "outputs": [
    {
     "data": {
      "text/plain": [
       "33,038     5\n",
       "33,039    13\n",
       "33,040    11\n",
       "33,041    13\n",
       "33,042    10\n",
       "          ..\n",
       "40,998    15\n",
       "40,999     7\n",
       "41,000    32\n",
       "41,001    41\n",
       "41,002     1\n",
       "Name: rkpo, Length: 7941, dtype: int64"
      ]
     },
     "execution_count": 32,
     "metadata": {},
     "output_type": "execute_result"
    }
   ],
   "source": [
    "rkpo_counts = df['rkpo'].value_counts().sort_index()\n",
    "rkpo_counts"
   ]
  },
  {
   "cell_type": "code",
   "execution_count": 67,
   "metadata": {},
   "outputs": [
    {
     "data": {
      "text/plain": [
       "Text(0, 0.5, 'User Counts')"
      ]
     },
     "execution_count": 67,
     "metadata": {},
     "output_type": "execute_result"
    },
    {
     "data": {
      "image/png": "[encoded data removed]",
      "text/plain": [
       "<Figure size 1080x720 with 1 Axes>"
      ]
     },
     "metadata": {
      "needs_background": "light"
     },
     "output_type": "display_data"
    }
   ],
   "source": [
    "rkpo_counts = df['rkpo'].value_counts().sort_index()\n",
    "rkpo_counts.index = sorted(rkpo_counts.index)\n",
    "\n",
    "#그래프 눈금(Ticks)처리\n",
    "fig, ax = plt.subplots(figsize = (15,10))\n",
    "ax.set_xticks([33000, 35000, 37000, 39000, 41000])\n",
    "ax.bar(rkpo_counts.index, rkpo_counts, color = 'skyblue')\n",
    "ax.set_title(\"명성 3.3 ~ 4.1 모험단 레벨 분포\", size = 25)\n",
    "ax.set_xlabel(\"Dnf Adventure Level\", size = 15)\n",
    "ax.set_ylabel(\"User Counts\", size = 15)"
   ]
  },
  {
   "cell_type": "code",
   "execution_count": 59,
   "metadata": {},
   "outputs": [
    {
     "data": {
      "text/plain": [
       "'33,038'"
      ]
     },
     "execution_count": 59,
     "metadata": {},
     "output_type": "execute_result"
    }
   ],
   "source": [
    "df['rkpo'].value_counts().sort_index().index.min()"
   ]
  },
  {
   "cell_type": "code",
   "execution_count": null,
   "metadata": {},
   "outputs": [],
   "source": []
  }
 ],
 "metadata": {
  "kernelspec": {
   "display_name": "base",
   "language": "python",
   "name": "python3"
  },
  "language_info": {
   "codemirror_mode": {
    "name": "ipython",
    "version": 3
   },
   "file_extension": ".py",
   "mimetype": "text/x-python",
   "name": "python",
   "nbconvert_exporter": "python",
   "pygments_lexer": "ipython3",
   "version": "3.9.12"
  },
  "orig_nbformat": 4
 },
 "nbformat": 4,
 "nbformat_minor": 2
}
